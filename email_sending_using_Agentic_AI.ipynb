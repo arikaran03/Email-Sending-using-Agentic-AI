{
 "cells": [
  {
   "cell_type": "code",
   "execution_count": 1,
   "metadata": {
    "colab": {
     "base_uri": "https://localhost:8080/",
     "height": 1000
    },
    "executionInfo": {
     "elapsed": 9152,
     "status": "ok",
     "timestamp": 1752465480965,
     "user": {
      "displayName": "ARIKARAN R",
      "userId": "01962153214305776388"
     },
     "user_tz": -330
    },
    "id": "PKJm1v7n-lAV",
    "outputId": "5d4a566d-7221-4b44-e8da-433664d32c8c"
   },
   "outputs": [
    {
     "name": "stdout",
     "output_type": "stream",
     "text": [
      "Requirement already satisfied: langchain in /usr/local/lib/python3.11/dist-packages (0.3.26)\n",
      "Collecting langchain-google-genai\n",
      "  Downloading langchain_google_genai-2.1.7-py3-none-any.whl.metadata (7.0 kB)\n",
      "Requirement already satisfied: langchain-core<1.0.0,>=0.3.66 in /usr/local/lib/python3.11/dist-packages (from langchain) (0.3.68)\n",
      "Requirement already satisfied: langchain-text-splitters<1.0.0,>=0.3.8 in /usr/local/lib/python3.11/dist-packages (from langchain) (0.3.8)\n",
      "Requirement already satisfied: langsmith>=0.1.17 in /usr/local/lib/python3.11/dist-packages (from langchain) (0.4.4)\n",
      "Requirement already satisfied: pydantic<3.0.0,>=2.7.4 in /usr/local/lib/python3.11/dist-packages (from langchain) (2.11.7)\n",
      "Requirement already satisfied: SQLAlchemy<3,>=1.4 in /usr/local/lib/python3.11/dist-packages (from langchain) (2.0.41)\n",
      "Requirement already satisfied: requests<3,>=2 in /usr/local/lib/python3.11/dist-packages (from langchain) (2.32.3)\n",
      "Requirement already satisfied: PyYAML>=5.3 in /usr/local/lib/python3.11/dist-packages (from langchain) (6.0.2)\n",
      "Collecting filetype<2.0.0,>=1.2.0 (from langchain-google-genai)\n",
      "  Downloading filetype-1.2.0-py2.py3-none-any.whl.metadata (6.5 kB)\n",
      "Collecting google-ai-generativelanguage<0.7.0,>=0.6.18 (from langchain-google-genai)\n",
      "  Downloading google_ai_generativelanguage-0.6.18-py3-none-any.whl.metadata (9.8 kB)\n",
      "Requirement already satisfied: google-api-core!=2.0.*,!=2.1.*,!=2.10.*,!=2.2.*,!=2.3.*,!=2.4.*,!=2.5.*,!=2.6.*,!=2.7.*,!=2.8.*,!=2.9.*,<3.0.0,>=1.34.1 in /usr/local/lib/python3.11/dist-packages (from google-api-core[grpc]!=2.0.*,!=2.1.*,!=2.10.*,!=2.2.*,!=2.3.*,!=2.4.*,!=2.5.*,!=2.6.*,!=2.7.*,!=2.8.*,!=2.9.*,<3.0.0,>=1.34.1->google-ai-generativelanguage<0.7.0,>=0.6.18->langchain-google-genai) (2.25.1)\n",
      "Requirement already satisfied: google-auth!=2.24.0,!=2.25.0,<3.0.0,>=2.14.1 in /usr/local/lib/python3.11/dist-packages (from google-ai-generativelanguage<0.7.0,>=0.6.18->langchain-google-genai) (2.38.0)\n",
      "Requirement already satisfied: proto-plus<2.0.0,>=1.22.3 in /usr/local/lib/python3.11/dist-packages (from google-ai-generativelanguage<0.7.0,>=0.6.18->langchain-google-genai) (1.26.1)\n",
      "Requirement already satisfied: protobuf!=4.21.0,!=4.21.1,!=4.21.2,!=4.21.3,!=4.21.4,!=4.21.5,<7.0.0,>=3.20.2 in /usr/local/lib/python3.11/dist-packages (from google-ai-generativelanguage<0.7.0,>=0.6.18->langchain-google-genai) (5.29.5)\n",
      "Requirement already satisfied: tenacity!=8.4.0,<10.0.0,>=8.1.0 in /usr/local/lib/python3.11/dist-packages (from langchain-core<1.0.0,>=0.3.66->langchain) (8.5.0)\n",
      "Requirement already satisfied: jsonpatch<2.0,>=1.33 in /usr/local/lib/python3.11/dist-packages (from langchain-core<1.0.0,>=0.3.66->langchain) (1.33)\n",
      "Requirement already satisfied: packaging<25,>=23.2 in /usr/local/lib/python3.11/dist-packages (from langchain-core<1.0.0,>=0.3.66->langchain) (24.2)\n",
      "Requirement already satisfied: typing-extensions>=4.7 in /usr/local/lib/python3.11/dist-packages (from langchain-core<1.0.0,>=0.3.66->langchain) (4.14.1)\n",
      "Requirement already satisfied: httpx<1,>=0.23.0 in /usr/local/lib/python3.11/dist-packages (from langsmith>=0.1.17->langchain) (0.28.1)\n",
      "Requirement already satisfied: orjson<4.0.0,>=3.9.14 in /usr/local/lib/python3.11/dist-packages (from langsmith>=0.1.17->langchain) (3.10.18)\n",
      "Requirement already satisfied: requests-toolbelt<2.0.0,>=1.0.0 in /usr/local/lib/python3.11/dist-packages (from langsmith>=0.1.17->langchain) (1.0.0)\n",
      "Requirement already satisfied: zstandard<0.24.0,>=0.23.0 in /usr/local/lib/python3.11/dist-packages (from langsmith>=0.1.17->langchain) (0.23.0)\n",
      "Requirement already satisfied: annotated-types>=0.6.0 in /usr/local/lib/python3.11/dist-packages (from pydantic<3.0.0,>=2.7.4->langchain) (0.7.0)\n",
      "Requirement already satisfied: pydantic-core==2.33.2 in /usr/local/lib/python3.11/dist-packages (from pydantic<3.0.0,>=2.7.4->langchain) (2.33.2)\n",
      "Requirement already satisfied: typing-inspection>=0.4.0 in /usr/local/lib/python3.11/dist-packages (from pydantic<3.0.0,>=2.7.4->langchain) (0.4.1)\n",
      "Requirement already satisfied: charset-normalizer<4,>=2 in /usr/local/lib/python3.11/dist-packages (from requests<3,>=2->langchain) (3.4.2)\n",
      "Requirement already satisfied: idna<4,>=2.5 in /usr/local/lib/python3.11/dist-packages (from requests<3,>=2->langchain) (3.10)\n",
      "Requirement already satisfied: urllib3<3,>=1.21.1 in /usr/local/lib/python3.11/dist-packages (from requests<3,>=2->langchain) (2.4.0)\n",
      "Requirement already satisfied: certifi>=2017.4.17 in /usr/local/lib/python3.11/dist-packages (from requests<3,>=2->langchain) (2025.7.9)\n",
      "Requirement already satisfied: greenlet>=1 in /usr/local/lib/python3.11/dist-packages (from SQLAlchemy<3,>=1.4->langchain) (3.2.3)\n",
      "Requirement already satisfied: googleapis-common-protos<2.0.0,>=1.56.2 in /usr/local/lib/python3.11/dist-packages (from google-api-core!=2.0.*,!=2.1.*,!=2.10.*,!=2.2.*,!=2.3.*,!=2.4.*,!=2.5.*,!=2.6.*,!=2.7.*,!=2.8.*,!=2.9.*,<3.0.0,>=1.34.1->google-api-core[grpc]!=2.0.*,!=2.1.*,!=2.10.*,!=2.2.*,!=2.3.*,!=2.4.*,!=2.5.*,!=2.6.*,!=2.7.*,!=2.8.*,!=2.9.*,<3.0.0,>=1.34.1->google-ai-generativelanguage<0.7.0,>=0.6.18->langchain-google-genai) (1.70.0)\n",
      "Requirement already satisfied: grpcio<2.0.0,>=1.33.2 in /usr/local/lib/python3.11/dist-packages (from google-api-core[grpc]!=2.0.*,!=2.1.*,!=2.10.*,!=2.2.*,!=2.3.*,!=2.4.*,!=2.5.*,!=2.6.*,!=2.7.*,!=2.8.*,!=2.9.*,<3.0.0,>=1.34.1->google-ai-generativelanguage<0.7.0,>=0.6.18->langchain-google-genai) (1.73.1)\n",
      "Requirement already satisfied: grpcio-status<2.0.0,>=1.33.2 in /usr/local/lib/python3.11/dist-packages (from google-api-core[grpc]!=2.0.*,!=2.1.*,!=2.10.*,!=2.2.*,!=2.3.*,!=2.4.*,!=2.5.*,!=2.6.*,!=2.7.*,!=2.8.*,!=2.9.*,<3.0.0,>=1.34.1->google-ai-generativelanguage<0.7.0,>=0.6.18->langchain-google-genai) (1.71.2)\n",
      "Requirement already satisfied: cachetools<6.0,>=2.0.0 in /usr/local/lib/python3.11/dist-packages (from google-auth!=2.24.0,!=2.25.0,<3.0.0,>=2.14.1->google-ai-generativelanguage<0.7.0,>=0.6.18->langchain-google-genai) (5.5.2)\n",
      "Requirement already satisfied: pyasn1-modules>=0.2.1 in /usr/local/lib/python3.11/dist-packages (from google-auth!=2.24.0,!=2.25.0,<3.0.0,>=2.14.1->google-ai-generativelanguage<0.7.0,>=0.6.18->langchain-google-genai) (0.4.2)\n",
      "Requirement already satisfied: rsa<5,>=3.1.4 in /usr/local/lib/python3.11/dist-packages (from google-auth!=2.24.0,!=2.25.0,<3.0.0,>=2.14.1->google-ai-generativelanguage<0.7.0,>=0.6.18->langchain-google-genai) (4.9.1)\n",
      "Requirement already satisfied: anyio in /usr/local/lib/python3.11/dist-packages (from httpx<1,>=0.23.0->langsmith>=0.1.17->langchain) (4.9.0)\n",
      "Requirement already satisfied: httpcore==1.* in /usr/local/lib/python3.11/dist-packages (from httpx<1,>=0.23.0->langsmith>=0.1.17->langchain) (1.0.9)\n",
      "Requirement already satisfied: h11>=0.16 in /usr/local/lib/python3.11/dist-packages (from httpcore==1.*->httpx<1,>=0.23.0->langsmith>=0.1.17->langchain) (0.16.0)\n",
      "Requirement already satisfied: jsonpointer>=1.9 in /usr/local/lib/python3.11/dist-packages (from jsonpatch<2.0,>=1.33->langchain-core<1.0.0,>=0.3.66->langchain) (3.0.0)\n",
      "Requirement already satisfied: pyasn1<0.7.0,>=0.6.1 in /usr/local/lib/python3.11/dist-packages (from pyasn1-modules>=0.2.1->google-auth!=2.24.0,!=2.25.0,<3.0.0,>=2.14.1->google-ai-generativelanguage<0.7.0,>=0.6.18->langchain-google-genai) (0.6.1)\n",
      "Requirement already satisfied: sniffio>=1.1 in /usr/local/lib/python3.11/dist-packages (from anyio->httpx<1,>=0.23.0->langsmith>=0.1.17->langchain) (1.3.1)\n",
      "Downloading langchain_google_genai-2.1.7-py3-none-any.whl (47 kB)\n",
      "\u001b[2K   \u001b[90m━━━━━━━━━━━━━━━━━━━━━━━━━━━━━━━━━━━━━━━━\u001b[0m \u001b[32m47.4/47.4 kB\u001b[0m \u001b[31m3.3 MB/s\u001b[0m eta \u001b[36m0:00:00\u001b[0m\n",
      "\u001b[?25hDownloading filetype-1.2.0-py2.py3-none-any.whl (19 kB)\n",
      "Downloading google_ai_generativelanguage-0.6.18-py3-none-any.whl (1.4 MB)\n",
      "\u001b[2K   \u001b[90m━━━━━━━━━━━━━━━━━━━━━━━━━━━━━━━━━━━━━━━━\u001b[0m \u001b[32m1.4/1.4 MB\u001b[0m \u001b[31m35.0 MB/s\u001b[0m eta \u001b[36m0:00:00\u001b[0m\n",
      "\u001b[?25hInstalling collected packages: filetype, google-ai-generativelanguage, langchain-google-genai\n",
      "  Attempting uninstall: google-ai-generativelanguage\n",
      "    Found existing installation: google-ai-generativelanguage 0.6.15\n",
      "    Uninstalling google-ai-generativelanguage-0.6.15:\n",
      "      Successfully uninstalled google-ai-generativelanguage-0.6.15\n",
      "\u001b[31mERROR: pip's dependency resolver does not currently take into account all the packages that are installed. This behaviour is the source of the following dependency conflicts.\n",
      "google-generativeai 0.8.5 requires google-ai-generativelanguage==0.6.15, but you have google-ai-generativelanguage 0.6.18 which is incompatible.\u001b[0m\u001b[31m\n",
      "\u001b[0mSuccessfully installed filetype-1.2.0 google-ai-generativelanguage-0.6.18 langchain-google-genai-2.1.7\n"
     ]
    },
    {
     "data": {
      "application/vnd.colab-display-data+json": {
       "id": "264393aa852449d1adff90aa160e1b15",
       "pip_warning": {
        "packages": [
         "google"
        ]
       }
      }
     },
     "metadata": {},
     "output_type": "display_data"
    }
   ],
   "source": [
    "!pip install langchain langchain-google-genai"
   ]
  },
  {
   "cell_type": "code",
   "execution_count": 3,
   "metadata": {
    "executionInfo": {
     "elapsed": 7,
     "status": "ok",
     "timestamp": 1752465678800,
     "user": {
      "displayName": "ARIKARAN R",
      "userId": "01962153214305776388"
     },
     "user_tz": -330
    },
    "id": "yC4RkpsKD1Tn"
   },
   "outputs": [],
   "source": [
    "from langchain.agents import initialize_agent, Tool # Tool is a rapper function\n",
    "from langchain.tools import tool # tool is decarator\n",
    "from langchain.agents.agent_types import AgentType # used to declare the agent type that we are going to work on\n",
    "from langchain_google_genai import ChatGoogleGenerativeAI\n",
    "import imaplib, smtplib, email\n",
    "from email.mime.text import MIMEText # minetext tt is used to create plain text or HTML email message bodies\n",
    "import os"
   ]
  },
  {
   "cell_type": "code",
   "execution_count": null,
   "metadata": {
    "executionInfo": {
     "elapsed": 10,
     "status": "ok",
     "timestamp": 1752466046599,
     "user": {
      "displayName": "ARIKARAN R",
      "userId": "01962153214305776388"
     },
     "user_tz": -330
    },
    "id": "qpr4mBoUGCCn"
   },
   "outputs": [],
   "source": [
    "os.environ[\"GOOGLE_API_KEY\"] = \"UPLOAD YOUR GOOGLE API KEY HERE\"\n",
    "EMAIL = \"UPLOAD YOUR EMAIL HERE\"\n",
    "APP_PASSWORD = \"UPLOAD YOUR APP PASSWORD HERE\""
   ]
  },
  {
   "cell_type": "code",
   "execution_count": 14,
   "metadata": {
    "executionInfo": {
     "elapsed": 13,
     "status": "ok",
     "timestamp": 1752467671212,
     "user": {
      "displayName": "ARIKARAN R",
      "userId": "01962153214305776388"
     },
     "user_tz": -330
    },
    "id": "--M0hSR8HbVs"
   },
   "outputs": [],
   "source": [
    "@tool\n",
    "def read_gmail(query : str = \"\") -> str:\n",
    "  \"\"\"Reads the latest unread Gmail message.\"\"\"\n",
    "  mail = imaplib.IMAP4_SSL(\"imap.gmail.com\")\n",
    "  mail.login(EMAIL, APP_PASSWORD)\n",
    "  mail.select(\"inbox\")\n",
    "  status, data = mail.search(None, \"UNSEEN\")\n",
    "  ids = data[0].split()\n",
    "  if not ids:\n",
    "    return \"No unread emails found\"\n",
    "  latest_id = ids[-1]\n",
    "  status, msg_data = mail.fetch(latest_id, \"(RFC822)\")\n",
    "  msg = email.message_from_bytes(msg_data[0][1])\n",
    "  subject = msg[\"Subject\"]\n",
    "  sender = msg[\"From\"]\n",
    "  body = \"\"\n",
    "\n",
    "  if msg.is_multipart():\n",
    "    for part in msg.walk():\n",
    "      if part.get_content_type() == 'text/plain':\n",
    "        body += part.get_payload(decode=True).decode()\n",
    "  else:\n",
    "    body  = msg.get_payload(decode=True).decode()\n",
    "  return f\"from: {sender}\\nSubject : {subject}\\nBody\\n{body.strip()}\"\n"
   ]
  },
  {
   "cell_type": "code",
   "execution_count": 27,
   "metadata": {
    "executionInfo": {
     "elapsed": 50,
     "status": "ok",
     "timestamp": 1752469739534,
     "user": {
      "displayName": "ARIKARAN R",
      "userId": "01962153214305776388"
     },
     "user_tz": -330
    },
    "id": "gH-ChGBzNpSt"
   },
   "outputs": [],
   "source": [
    "@tool\n",
    "def send_gmail_reply(details : str) -> str:\n",
    "  \"\"\"Sends a reply to an email. Format : 'to|subject|message. \"\"\"\n",
    "  try:\n",
    "    to_email, subject, body = details.split(\"|\",2)\n",
    "    msg = MIMEText(body)\n",
    "    msg[\"Subject\"] = \"Re: \"  + subject\n",
    "    msg[\"From\"] = EMAIL\n",
    "    msg[\"To\"] = to_email\n",
    "    server = smtplib.SMTP_SSL(\"smtp.gmail.com\",465)\n",
    "    server.login(EMAIL, APP_PASSWORD)\n",
    "    server.sendmail(EMAIL, to_email, msg.as_string())\n",
    "    server.quit()\n",
    "\n",
    "    return \"reply send succesfully\"\n",
    "  except exception as e:\n",
    "    return f\"Failed to send : {str(e)}\""
   ]
  },
  {
   "cell_type": "code",
   "execution_count": 28,
   "metadata": {
    "executionInfo": {
     "elapsed": 26,
     "status": "ok",
     "timestamp": 1752469741998,
     "user": {
      "displayName": "ARIKARAN R",
      "userId": "01962153214305776388"
     },
     "user_tz": -330
    },
    "id": "OV3ItQL2NZWu"
   },
   "outputs": [],
   "source": [
    "llm = ChatGoogleGenerativeAI(model=\"gemini-1.5-flash\", temperature=0.3)\n",
    "tools = [read_gmail, send_gmail_reply]"
   ]
  },
  {
   "cell_type": "code",
   "execution_count": 29,
   "metadata": {
    "executionInfo": {
     "elapsed": 17,
     "status": "ok",
     "timestamp": 1752469743571,
     "user": {
      "displayName": "ARIKARAN R",
      "userId": "01962153214305776388"
     },
     "user_tz": -330
    },
    "id": "QOYJ1jmuSZbV"
   },
   "outputs": [],
   "source": [
    "from pickle import TRUE\n",
    "agent = initialize_agent(\n",
    "    tools = tools,\n",
    "    llm = llm,\n",
    "    agent = AgentType.ZERO_SHOT_REACT_DESCRIPTION,\n",
    "    verbose=True\n",
    ")"
   ]
  },
  {
   "cell_type": "code",
   "execution_count": 31,
   "metadata": {
    "colab": {
     "base_uri": "https://localhost:8080/",
     "height": 1000
    },
    "executionInfo": {
     "elapsed": 6081,
     "status": "ok",
     "timestamp": 1752469810423,
     "user": {
      "displayName": "ARIKARAN R",
      "userId": "01962153214305776388"
     },
     "user_tz": -330
    },
    "id": "Xnt9j2WASofq",
    "outputId": "ea2c9bd0-54b2-42b5-d407-1e4114f3bf2a"
   },
   "outputs": [
    {
     "name": "stdout",
     "output_type": "stream",
     "text": [
      "\n",
      "\n",
      "\u001b[1m> Entering new AgentExecutor chain...\u001b[0m\n",
      "\u001b[32;1m\u001b[1;3mThought: I need to read the latest unread Gmail message to see if it's a customer query.\n",
      "Action: read_gmail\n",
      "Action Input: ''\u001b[0m\n",
      "Observation: \u001b[36;1m\u001b[1;3mfrom: ARIKARAN R <arikaran257@gmail.com>\n",
      "Subject : Damaged headset\n",
      "Body\n",
      "Dear Customer Support,\n",
      "\n",
      "I hope this message finds you well. I am writing to report an issue with a\n",
      "headset I purchased from your store (Order ID: #123456).\n",
      "\n",
      "Unfortunately, the headset arrived damaged and is not functioning properly.\n",
      "I have tried basic troubleshooting, but the issue persists.\n",
      "\n",
      "I kindly request a replacement or refund for the faulty product. Please let\n",
      "me know if any further details or photos are required.\n",
      "\n",
      "Looking forward to your prompt assistance. Kind regards\u001b[0m\n",
      "Thought:\u001b[32;1m\u001b[1;3mQuestion: Read the latest unread email. If it's a customer query , write a polite reply and sent it. To send reply, format must be : to|subject|message\n",
      "\n",
      "Thought: I need to read the latest unread Gmail message to see if it's a customer query.\n",
      "Action: read_gmail\n",
      "Action Input: ''\u001b[0m\n",
      "Observation: \u001b[36;1m\u001b[1;3mfrom: Google Community Team <googlecommunityteam-noreply@google.com>\n",
      "Subject : =?UTF-8?B?CuCkleCkvuCksOCli+CkrOCkvuCksCDgpJXgpYcg4KSy4KS/4KSPIOCkuOClgeCkneCkvg==?=\n",
      "\t=?UTF-8?B?4KS1OiBHb29nbGUgU2VhcmNoIOCklOCksCBNYXBzIOCkquCksCDgpIXgpKrgpKjgpL4g4KSV4KS+4KSw?=\n",
      "\t=?UTF-8?B?4KWL4KSs4KS+4KSwIOCkpuCkv+CkluCkvuCkj+Ckggo=?=\n",
      "Body\n",
      "कारोबार के लिए सुझाव\n",
      "\n",
      "बिना कोई शुल्क दिए Business Profile बनाएं और Google पर अपने कारोबार को एक  \n",
      "अलग पहचान दें\n",
      "\n",
      "अपने स्टोरफ़्रंट या सेवा देने के इलाके के लिए, बिना कोई शुल्क दिए Business  \n",
      "Profile बनाएं, ताकि Google Search और Maps पर ग्राहकों को आपका कारोबार दिखे.  \n",
      "आपके कारोबार से मिलते-जुलते कारोबार खोजने पर लोगों को आपकी प्रोफ़ाइल दिखती  \n",
      "है. कारोबार की फ़ोटो, पोस्ट, ऑफ़र वगैरह जोड़कर, अपनी प्रोफ़ाइल दिलचस्प  \n",
      "बनाएं.\n",
      "\n",
      "अभी मैनेज  \n",
      "करें<https://notifications.google.com/g/p/ANiao5r_PWV2oct68fpY4uCDEYlFXWWbhiAhW5E33YvxVE6g5bpcrhn_fGiRnFxBekR4J3vCQfnj129fnxyrqQPOw-NhZwr8wtExcOB6jHTgLMHgxQjTzVcm1OqVorFWXIwtiaG6wcS-kB33gITEjpds-rbcOgSEvEm_2kpD_YjNeCwZoC3bVdCtbtaTp4VdU72vBfpyxvqnFn2q5-7_sC20gWMkTJdZPGWMzO5UQBkiS6v6xJgODoUfNUe2wt3-ygwEBsFsexbcpTSxJ7JOXdpT2dt2gL4MSWlzjTpeP6ssFHs7ty1Sdy1UaJhdnYgaFDD51BBpF8M>\n",
      "\n",
      "कारोबार के लिए Business Profile क्यों फ़ायदेमंद है\n",
      "इंटरनेट पर आसानी से नज़र आएं\n",
      "\n",
      "जगह, फ़ोन नंबर, और कारोबार के खुले होने का समय जैसी ज़रूरी जानकारी जोड़ें.  \n",
      "खास ऑफ़र वगैरह से ग्राहकों का ध्यान खीचें.\n",
      "\n",
      "क्रिएटिव के ज़रिए लोगों का ध्यान खींचे\n",
      "\n",
      "प्रोफ़ाइल में फ़ोटो, कवर इमेज, और लोगो शामिल करके, अपने कारोबार की खासियत  \n",
      "बताएं.\n",
      "\n",
      "जानें कि लोग आपके कारोबार तक कैसे पहुंचते हैं\n",
      "\n",
      "देखें कि आपके कारोबार को खोजने के लिए, लोग किन कीवर्ड का इस्तेमाल करते हैं.  \n",
      "साथ ही, कॉल, समीक्षा, बुकिंग वगैरह से जुड़ी इनसाइट पाएं.\n",
      "\n",
      "मेरी प्रोफ़ाइल मैनेज  \n",
      "करें<https://notifications.google.com/g/p/ANiao5r_PWV2oct68fpY4uCDEYlFXWWbhiAhW5E33YvxVE6g5bpcrhn_fGiRnFxBekR4J3vCQfnj129fnxyrqQPOw-NhZwr8wtExcOB6jHTgLMHgxQjTzVcm1OqVorFWXIwtiaG6wcS-kB33gITEjpds-rbcOgSEvEm_2kpD_YjNeCwZoC3bVdCtbtaTp4VdU72vBfpyxvqnFn2q5-7_sC20gWMkTJdZPGWMzO5UQBkiS6v6xJgODoUfNUe2wt3-ygwEBsFsexbcpTSxJ7JOXdpT2dt2gL4MSWlzjTpeP6ssFHs7ty1Sdy1UaJhdnYgaFDD51BBpF8M>\n",
      "अलग-अलग भी कमाल, पर एक साथ आ जाएं तो बेमिसाल.\n",
      "Google की मदद से अपने कारोबार को कैसे बढ़ाएं, इससे जुड़े सभी तरीकों को  \n",
      "शामिल करते हुए हमने यह शॉर्ट सीरीज़ बनाई है. इसमें कारोबार बढ़ाने के लिए  \n",
      "टूल और सेवाओं का इस्तेमाल करने से लेकर ज़्यादा ग्राहक पाने तक के बारे में  \n",
      "बताया गया है. क्या आपको हमारे बेहतरीन सुझाव अभी चाहिए?\n",
      "हमारी गाइड  \n",
      "पढ़ें<https://notifications.google.com/g/p/ANiao5oFhZIJGy-XcqmWsMy-KW_WA5huON8u1hjH5Oqkudn5Ea7YcSYdx6sVlLYgUctLIDa4qjJH9i5_xT10uYALNB7rEn2cqqbYtW0dpOFlpngNv9AWZpSr95ECJ_RJpudFToP4l8q60POgp9WlXR1prc_92gUt4lca1werfrKliI4oZSqdPXdkcRZiqjMsNaUzu9i5zc_NzOpPxT2NWQnpTPy1cnJZY2GwS0ZV67eX59Q0OXuLhsyI7oEJEPOX7QWoOrKn>\n",
      "\n",
      "क्या आपका कोई सवाल है?\n",
      "\n",
      "सहायता केंद्र पर  \n",
      "जाएं<https://notifications.google.com/g/p/ANiao5qahpxi88AS1p7d8Nhch8YIUbjHIsmC_IZn8DeB_8vllhT3zuY4vu8dhKzRsyK9U4zNNp0OrCpwK-ADOLTe3SXxaEmX5sf8Bz9nU879fF_b3Q1Z_BPIjUhlg-idIMS8cnicFceY1WKh9BiXCaAaz2hKrFgYjJ4k9baq>\n",
      "\n",
      "हमसे संपर्क  \n",
      "करें<https://notifications.google.com/g/p/ANiao5o8pOBHaRwLns3bmLwYPEHcdrpIDRcNv8m5in7dtDjo2SJJCLnVfnPEAOt5tOfQfweNYY266h5KjvfhJV95p1snLzeuGqiur-nROwqAr5RqkaM4gmyJaUNmPhdyp8-shVLYnvb9ZfhTlRt76jaKuRI7Eg>\n",
      "Google LLC 1600 Amphitheatre Parkway, Mountain View, CA 94043\n",
      "\n",
      "आपको यह ईमेल इसलिए भेजा गया है, क्योंकि आपने हमें बताया था कि आपका एक  \n",
      "कारोबार है और आपको अपनी ज़रूरत के मुताबिक, कारोबार से जुड़े टूल के सुझाव  \n",
      "चाहिए. अगर आपको आगे से ऐसे ईमेल नहीं चाहिए, तो यहां  \n",
      "<https://myaccount.google.com/communication-preferences/unsubscribe/gt/ANiao5r30upGiiQ8byNQmEKfuppzco8B2RfKm-rClynEnsIbZ8oNWnUvDCltbfJhITq5n89bLEbRJdvYHAAXP6y4c0ZRxo6h2UBG1ByC-hH0e7kD53FaNnCGhuKqFvdOBoUq9-Yw9SrOjRuO-7yH-X6_UKpjavCN9c_tRy6hPrg75QaYzSGrkOlWsRSXVWjxkFJ6vgan_spISeJ20nunHMtuD3Oe4bo3G-AdOjAl7TujrYGGBaASZd8RvlEljRzfLs07ibG7GaqAskg46NSyjQBbOQg?utm_source=gm&utm_medium=email&auto=true>  \n",
      "क्लिक करके ऑप्ट-आउट करें.\u001b[0m\n",
      "Thought:\u001b[32;1m\u001b[1;3mThought:The second email is not a customer query; it's a promotional email from Google.  I need to process only customer queries. The first email is a customer query about a damaged headset. I should reply to that.\n",
      "\n",
      "Action: send_gmail_reply\n",
      "Action Input: arikaran257@gmail.com|Re: Damaged Headset|Dear Arikaran R,\\n\\nThank you for contacting us about your damaged headset (Order ID: #123456).\\nWe sincerely apologize for the inconvenience this has caused.  We would be happy to either replace your headset or issue a full refund.\\n\\nTo process your request, could you please reply to this email with a photo of the damaged headset and the packaging?\\n\\nOnce we receive this information, we will process your request immediately.\\n\\nSincerely,\\nCustomer Support\u001b[0m\n",
      "Observation: \u001b[33;1m\u001b[1;3mreply send succesfully\u001b[0m\n",
      "Thought:\u001b[32;1m\u001b[1;3mThought: I have read the latest unread email, identified it as a customer query, and sent a polite reply.\n",
      "\n",
      "Final Answer: A reply has been sent to the customer regarding their damaged headset.\u001b[0m\n",
      "\n",
      "\u001b[1m> Finished chain.\u001b[0m\n"
     ]
    },
    {
     "data": {
      "application/vnd.google.colaboratory.intrinsic+json": {
       "type": "string"
      },
      "text/plain": [
       "'A reply has been sent to the customer regarding their damaged headset.'"
      ]
     },
     "execution_count": 31,
     "metadata": {},
     "output_type": "execute_result"
    }
   ],
   "source": [
    "prompt = \"\"\"\n",
    "  Read the latest unread email. If it's a customer query , write a polite reply and sent it. To send reply, format must be : to|subject|message\n",
    "\"\"\"\n",
    "agent.run(prompt)"
   ]
  }
 ],
 "metadata": {
  "accelerator": "GPU",
  "colab": {
   "authorship_tag": "ABX9TyOLRHsZSNK9mUyI0DSFCHGS",
   "gpuType": "T4",
   "provenance": []
  },
  "kernelspec": {
   "display_name": "Python 3",
   "name": "python3"
  },
  "language_info": {
   "name": "python"
  }
 },
 "nbformat": 4,
 "nbformat_minor": 0
}
